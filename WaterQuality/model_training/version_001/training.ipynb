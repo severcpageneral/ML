{
 "cells": [
  {
   "cell_type": "code",
   "id": "initial_id",
   "metadata": {
    "collapsed": true,
    "ExecuteTime": {
     "end_time": "2024-12-08T02:26:00.446383Z",
     "start_time": "2024-12-08T02:26:00.377419Z"
    }
   },
   "source": [
    "# Базовые библиотеки для работы с данными и вычислений\n",
    "import numpy as np\n",
    "import pandas as pd\n",
    "import tensorflow as tf\n",
    "from tensorflow import keras\n",
    "from tensorflow.keras import layers\n",
    "\n",
    "# Инструменты для ML\n",
    "from sklearn.model_selection import train_test_split\n",
    "from sklearn.preprocessing import StandardScaler\n",
    "from sklearn.metrics import (\n",
    "    accuracy_score, precision_score, recall_score, f1_score,\n",
    "    roc_auc_score, classification_report, confusion_matrix\n",
    ")\n",
    "\n",
    "# Визуализация\n",
    "import seaborn as sns\n",
    "import matplotlib.pyplot as plt\n",
    "\n",
    "# MLflow и логирование\n",
    "import mlflow\n",
    "import mlflow.tensorflow\n",
    "from mlflow.models.signature import infer_signature\n",
    "import dagshub\n",
    "from mlflow.exceptions import MlflowException\n",
    "\n",
    "# Системные библиотеки\n",
    "import time\n",
    "import yaml\n",
    "import os\n",
    "import tempfile\n",
    "import datetime"
   ],
   "outputs": [],
   "execution_count": 151
  },
  {
   "metadata": {
    "ExecuteTime": {
     "end_time": "2024-12-08T02:26:00.491229Z",
     "start_time": "2024-12-08T02:26:00.468323Z"
    }
   },
   "cell_type": "code",
   "source": [
    "def load_config(file_name):\n",
    "    config_path = os.path.join(os.getcwd(), 'configs', file_name)\n",
    "    with open(config_path, 'r') as file:\n",
    "        return yaml.safe_load(file)\n"
   ],
   "id": "4b9cb256bd77674a",
   "outputs": [],
   "execution_count": 152
  },
  {
   "metadata": {
    "ExecuteTime": {
     "end_time": "2024-12-08T02:26:00.613982Z",
     "start_time": "2024-12-08T02:26:00.585977Z"
    }
   },
   "cell_type": "code",
   "source": [
    "def create_model(input_dim, model_config):\n",
    "    \"\"\"\n",
    "    Создание архитектуры нейронной сети на основе конфигурации\n",
    "    \"\"\"\n",
    "    #model_config = load_config('model_config.yml')['model']\n",
    "\n",
    "    # Создаем модель, используя функциональный API\n",
    "    inputs = keras.Input(shape=(input_dim,))\n",
    "    x = inputs\n",
    "\n",
    "    for layer in model_config['layers']:\n",
    "        x = layers.Dense(layer['units'], activation=layer['activation'])(x)\n",
    "        if 'dropout' in layer:\n",
    "            x = layers.Dropout(layer['dropout'])(x)\n",
    "\n",
    "    outputs = x\n",
    "\n",
    "    # Создаем модель\n",
    "    model = keras.Model(inputs=inputs, outputs=outputs, name=model_config['name'])\n",
    "\n",
    "    # Компиляция модели\n",
    "    model.compile(\n",
    "        optimizer=model_config['compile']['optimizer'],\n",
    "        loss=model_config['compile']['loss'],\n",
    "        metrics=model_config['compile']['metrics']\n",
    "    )\n",
    "\n",
    "    return model"
   ],
   "id": "4cb093e6ef1c7d91",
   "outputs": [],
   "execution_count": 153
  },
  {
   "metadata": {
    "ExecuteTime": {
     "end_time": "2024-12-08T02:26:00.675348Z",
     "start_time": "2024-12-08T02:26:00.647893Z"
    }
   },
   "cell_type": "code",
   "source": [
    "def train_and_evaluate_model(X, y, model_config, hyperparams):\n",
    "    \"\"\"\n",
    "    Обучает модель, используя параметры из конфигурационного файла\n",
    "    \"\"\"\n",
    "    #hyperparams = load_config('hyperparameters.yml')['hyperparameters']\n",
    "\n",
    "    # Разделение данных на обучающую и тестовую выборки\n",
    "    X_train, X_test, y_train, y_test = train_test_split(\n",
    "        X, y,\n",
    "        test_size=hyperparams['train_test_split']['test_size'],\n",
    "        random_state=hyperparams['train_test_split']['random_state']\n",
    "    )\n",
    "\n",
    "    # Стандартизация признаков\n",
    "    scaler = StandardScaler()\n",
    "    X_train_scaled = scaler.fit_transform(X_train)\n",
    "    X_test_scaled = scaler.transform(X_test)\n",
    "\n",
    "    # Создание модели\n",
    "    model = create_model(input_dim=X.shape[1], model_config=model_config)\n",
    "\n",
    "    # Настройка ранней остановки для предотвращения переобучения\n",
    "    early_stopping = keras.callbacks.EarlyStopping(\n",
    "        monitor=hyperparams['early_stopping']['monitor'],\n",
    "        patience=hyperparams['early_stopping']['patience'],\n",
    "        restore_best_weights=hyperparams['early_stopping']['restore_best_weights']\n",
    "    )\n",
    "\n",
    "    # Замер времени обучения\n",
    "    start_time = time.time()\n",
    "    history = model.fit(\n",
    "        X_train_scaled, y_train,\n",
    "        epochs=hyperparams['epochs'],\n",
    "        batch_size=hyperparams['batch_size'],\n",
    "        validation_split=hyperparams['validation_split'],\n",
    "        callbacks=[early_stopping],\n",
    "        verbose=2\n",
    "    )\n",
    "    training_time = time.time() - start_time\n",
    "\n",
    "    # Получение предсказаний\n",
    "    y_pred = (model.predict(X_test_scaled) > 0.5).astype(int)\n",
    "    y_pred_proba = model.predict(X_test_scaled)\n",
    "\n",
    "    # Расчет метрик качества модели\n",
    "    metrics = {\n",
    "        \"accuracy\": accuracy_score(y_test, y_pred),\n",
    "        \"precision\": precision_score(y_test, y_pred, average='weighted', zero_division=1),\n",
    "        \"recall\": recall_score(y_test, y_pred, average='weighted', zero_division=1),\n",
    "        \"f1\": f1_score(y_test, y_pred, average='weighted', zero_division=1),\n",
    "        \"roc_auc\": roc_auc_score(y_test, y_pred_proba),\n",
    "        \"training_time\": training_time,\n",
    "    }\n",
    "\n",
    "    return {\n",
    "        'model': model,\n",
    "        'scaler': scaler,\n",
    "        'history': history,\n",
    "        'metrics': metrics,\n",
    "        'predictions': {\n",
    "            'y_test': y_test,\n",
    "            'y_pred': y_pred,\n",
    "            'y_pred_proba': y_pred_proba\n",
    "        },\n",
    "        'data': {\n",
    "            'X_test_scaled': X_test_scaled\n",
    "        }\n",
    "    }"
   ],
   "id": "ef3ebe43252aa485",
   "outputs": [],
   "execution_count": 154
  },
  {
   "metadata": {
    "ExecuteTime": {
     "end_time": "2024-12-08T02:26:00.737184Z",
     "start_time": "2024-12-08T02:26:00.713246Z"
    }
   },
   "cell_type": "code",
   "source": [
    "def log_to_mlflow(evaluation_results, experiment_name, logging_config, run_name, save_model):\n",
    "    \"\"\"\n",
    "    Логирует результаты эксперимента в MLflow\n",
    "    \"\"\"\n",
    "    try:\n",
    "        experiment_id = mlflow.create_experiment(logging_config['experiment_name'])\n",
    "    except mlflow.exceptions.MlflowException:\n",
    "        experiment_id = mlflow.get_experiment_by_name(logging_config['experiment_name']).experiment_id\n",
    "\n",
    "    with mlflow.start_run(experiment_id=experiment_id, run_name=run_name):\n",
    "        # Логирование тегов эксперимента\n",
    "        for tag, value in logging_config['tags'].items():\n",
    "            mlflow.set_tag(tag, value)\n",
    "\n",
    "        # Извлечение данных из результатов\n",
    "        model = evaluation_results['model']\n",
    "        history = evaluation_results['history']\n",
    "        metrics = evaluation_results['metrics']\n",
    "        X_test_scaled = evaluation_results['data']['X_test_scaled']  # Получаем X_test_scaled из evaluation_results\n",
    "        y_pred = evaluation_results['predictions']['y_pred']  # Также получаем y_pred\n",
    "\n",
    "        # Логирование параметров модели\n",
    "        mlflow.log_params({\n",
    "            \"input_dim\": evaluation_results['data']['X_test_scaled'].shape[1],\n",
    "            \"optimizer\": model.optimizer.get_config()['name'],\n",
    "            \"loss\": model.loss,\n",
    "            \"metrics\": model.metrics_names,\n",
    "        })\n",
    "\n",
    "        # Логирование метрик\n",
    "        for metric_name, metric_value in metrics.items():\n",
    "            mlflow.log_metric(metric_name, metric_value)\n",
    "\n",
    "        # Сохранение модели и артефактов\n",
    "        if save_model:\n",
    "            # Сохраняем модель с помощью MLflow\n",
    "            signature = infer_signature(X_test_scaled, y_pred)\n",
    "            mlflow.tensorflow.log_model(\n",
    "                model,\n",
    "                run_name,\n",
    "                signature=signature,\n",
    "                registered_model_name = run_name\n",
    "            )\n",
    "            # Сохранение в локальной директории models\n",
    "            local_model_path = os.path.join(\"..\", \"..\", \"models\", f\"{run_name}.keras\")\n",
    "            model.save(local_model_path)"
   ],
   "id": "145477b721d01274",
   "outputs": [],
   "execution_count": 155
  },
  {
   "metadata": {
    "ExecuteTime": {
     "end_time": "2024-12-08T02:26:32.007739Z",
     "start_time": "2024-12-08T02:26:00.818009Z"
    }
   },
   "cell_type": "code",
   "source": [
    "dagshub.init(repo_owner='sever.cpa.general', repo_name='my-first-repo', mlflow=True)\n",
    "run_name = \"ml_baseline\"\n",
    "from mlflow.exceptions import MlflowException\n",
    "\n",
    "try:\n",
    "    experiment_id = mlflow.create_experiment(experiment_name)\n",
    "except MlflowException:\n",
    "    experiment_id = mlflow.get_experiment_by_name(experiment_name).experiment_id\n",
    "\n",
    "# Загружаем данные\n",
    "import os\n",
    "file_path = os.path.join(\"..\", \"..\", \"data\", \"raw\", \"water_potability.csv\")\n",
    "\n",
    "df = pd.read_csv(file_path)\n",
    "X = df.drop('Potability', axis=1)\n",
    "y = df['Potability']\n",
    "feature_names = X.columns.tolist()\n",
    "\n",
    "## Загружаем конфиги\n",
    "def load_config(file_name):\n",
    "    config_path = os.path.join(os.getcwd(), 'configs', file_name)\n",
    "    with open(config_path, 'r') as file:\n",
    "        return yaml.safe_load(file)\n",
    "\n",
    "hyperparams = load_config('hyperparameters.yml')['hyperparameters']\n",
    "model_config = load_config('model_config.yml')['model']\n",
    "logging_config = load_config('logging_config.yml')['logging']\n",
    "\n",
    "# Обучение и оценка модели\n",
    "results = train_and_evaluate_model(\n",
    "    X=X,\n",
    "    y=y,\n",
    "    model_config=model_config,\n",
    "    hyperparams=hyperparams\n",
    ")\n",
    "# Логирование результатов в MLflow\n",
    "log_to_mlflow(\n",
    "    evaluation_results=results,\n",
    "    experiment_name=\"Water Probability [RF]\",  # Используем тот же experiment_name\n",
    "    logging_config = logging_config,\n",
    "    run_name= \"ml_baseline\",  # Явно передаем run_name\n",
    "    save_model=True\n",
    ")\n"
   ],
   "id": "4de98246bb0fafda",
   "outputs": [
    {
     "data": {
      "text/plain": [
       "Initialized MLflow to track repo \u001B[32m\"sever.cpa.general/my-first-repo\"\u001B[0m\n"
      ],
      "text/html": [
       "<pre style=\"white-space:pre;overflow-x:auto;line-height:normal;font-family:Menlo,'DejaVu Sans Mono',consolas,'Courier New',monospace\">Initialized MLflow to track repo <span style=\"color: #008000; text-decoration-color: #008000\">\"sever.cpa.general/my-first-repo\"</span>\n",
       "</pre>\n"
      ]
     },
     "metadata": {},
     "output_type": "display_data"
    },
    {
     "data": {
      "text/plain": [
       "Repository sever.cpa.general/my-first-repo initialized!\n"
      ],
      "text/html": [
       "<pre style=\"white-space:pre;overflow-x:auto;line-height:normal;font-family:Menlo,'DejaVu Sans Mono',consolas,'Courier New',monospace\">Repository sever.cpa.general/my-first-repo initialized!\n",
       "</pre>\n"
      ]
     },
     "metadata": {},
     "output_type": "display_data"
    },
    {
     "name": "stdout",
     "output_type": "stream",
     "text": [
      "Epoch 1/50\n",
      "66/66 - 2s - 34ms/step - accuracy: 0.5978 - loss: 0.6890 - val_accuracy: 0.6050 - val_loss: 0.6828\n",
      "Epoch 2/50\n",
      "66/66 - 0s - 4ms/step - accuracy: 0.6054 - loss: 0.6763 - val_accuracy: 0.6050 - val_loss: 0.6719\n",
      "Epoch 3/50\n",
      "66/66 - 0s - 4ms/step - accuracy: 0.6054 - loss: 0.6707 - val_accuracy: 0.6050 - val_loss: 0.6710\n",
      "Epoch 4/50\n",
      "66/66 - 0s - 5ms/step - accuracy: 0.6054 - loss: 0.6715 - val_accuracy: 0.6050 - val_loss: 0.6710\n",
      "Epoch 5/50\n",
      "66/66 - 0s - 5ms/step - accuracy: 0.6054 - loss: 0.6710 - val_accuracy: 0.6050 - val_loss: 0.6710\n",
      "Epoch 6/50\n",
      "66/66 - 0s - 4ms/step - accuracy: 0.6054 - loss: 0.6719 - val_accuracy: 0.6050 - val_loss: 0.6710\n",
      "Epoch 7/50\n",
      "66/66 - 0s - 5ms/step - accuracy: 0.6054 - loss: 0.6720 - val_accuracy: 0.6050 - val_loss: 0.6710\n",
      "Epoch 8/50\n",
      "66/66 - 0s - 4ms/step - accuracy: 0.6054 - loss: 0.6712 - val_accuracy: 0.6050 - val_loss: 0.6710\n",
      "Epoch 9/50\n",
      "66/66 - 0s - 4ms/step - accuracy: 0.6054 - loss: 0.6715 - val_accuracy: 0.6050 - val_loss: 0.6710\n",
      "Epoch 10/50\n",
      "66/66 - 0s - 4ms/step - accuracy: 0.6054 - loss: 0.6715 - val_accuracy: 0.6050 - val_loss: 0.6709\n",
      "Epoch 11/50\n",
      "66/66 - 0s - 5ms/step - accuracy: 0.6054 - loss: 0.6710 - val_accuracy: 0.6050 - val_loss: 0.6710\n",
      "Epoch 12/50\n",
      "66/66 - 0s - 4ms/step - accuracy: 0.6054 - loss: 0.6715 - val_accuracy: 0.6050 - val_loss: 0.6710\n",
      "Epoch 13/50\n",
      "66/66 - 0s - 4ms/step - accuracy: 0.6054 - loss: 0.6707 - val_accuracy: 0.6050 - val_loss: 0.6709\n",
      "Epoch 14/50\n",
      "66/66 - 0s - 4ms/step - accuracy: 0.6054 - loss: 0.6715 - val_accuracy: 0.6050 - val_loss: 0.6710\n",
      "Epoch 15/50\n",
      "66/66 - 0s - 4ms/step - accuracy: 0.6054 - loss: 0.6729 - val_accuracy: 0.6050 - val_loss: 0.6710\n",
      "Epoch 16/50\n",
      "66/66 - 0s - 4ms/step - accuracy: 0.6054 - loss: 0.6714 - val_accuracy: 0.6050 - val_loss: 0.6710\n",
      "Epoch 17/50\n",
      "66/66 - 0s - 4ms/step - accuracy: 0.6054 - loss: 0.6709 - val_accuracy: 0.6050 - val_loss: 0.6710\n",
      "Epoch 18/50\n",
      "66/66 - 0s - 4ms/step - accuracy: 0.6054 - loss: 0.6726 - val_accuracy: 0.6050 - val_loss: 0.6710\n",
      "Epoch 19/50\n",
      "66/66 - 0s - 4ms/step - accuracy: 0.6054 - loss: 0.6714 - val_accuracy: 0.6050 - val_loss: 0.6709\n",
      "Epoch 20/50\n",
      "66/66 - 0s - 4ms/step - accuracy: 0.6054 - loss: 0.6709 - val_accuracy: 0.6050 - val_loss: 0.6710\n",
      "Epoch 21/50\n",
      "66/66 - 0s - 4ms/step - accuracy: 0.6054 - loss: 0.6709 - val_accuracy: 0.6050 - val_loss: 0.6710\n",
      "Epoch 22/50\n",
      "66/66 - 0s - 4ms/step - accuracy: 0.6054 - loss: 0.6713 - val_accuracy: 0.6050 - val_loss: 0.6709\n",
      "Epoch 23/50\n",
      "66/66 - 0s - 4ms/step - accuracy: 0.6054 - loss: 0.6720 - val_accuracy: 0.6050 - val_loss: 0.6710\n",
      "Epoch 24/50\n",
      "66/66 - 0s - 4ms/step - accuracy: 0.6054 - loss: 0.6705 - val_accuracy: 0.6050 - val_loss: 0.6710\n",
      "Epoch 25/50\n",
      "66/66 - 0s - 4ms/step - accuracy: 0.6054 - loss: 0.6720 - val_accuracy: 0.6050 - val_loss: 0.6710\n",
      "Epoch 26/50\n",
      "66/66 - 0s - 4ms/step - accuracy: 0.6054 - loss: 0.6717 - val_accuracy: 0.6050 - val_loss: 0.6710\n",
      "Epoch 27/50\n",
      "66/66 - 0s - 4ms/step - accuracy: 0.6054 - loss: 0.6714 - val_accuracy: 0.6050 - val_loss: 0.6710\n",
      "Epoch 28/50\n",
      "66/66 - 0s - 4ms/step - accuracy: 0.6054 - loss: 0.6710 - val_accuracy: 0.6050 - val_loss: 0.6710\n",
      "Epoch 29/50\n",
      "66/66 - 0s - 4ms/step - accuracy: 0.6054 - loss: 0.6709 - val_accuracy: 0.6050 - val_loss: 0.6710\n",
      "\u001B[1m21/21\u001B[0m \u001B[32m━━━━━━━━━━━━━━━━━━━━\u001B[0m\u001B[37m\u001B[0m \u001B[1m0s\u001B[0m 5ms/step\n",
      "\u001B[1m21/21\u001B[0m \u001B[32m━━━━━━━━━━━━━━━━━━━━\u001B[0m\u001B[37m\u001B[0m \u001B[1m0s\u001B[0m 2ms/step \n"
     ]
    },
    {
     "name": "stderr",
     "output_type": "stream",
     "text": [
      "Registered model 'ml_baseline' already exists. Creating a new version of this model...\n",
      "2024/12/08 03:26:31 INFO mlflow.store.model_registry.abstract_store: Waiting up to 300 seconds for model version to finish creation. Model name: ml_baseline, version 2\n",
      "Created version '2' of model 'ml_baseline'.\n"
     ]
    },
    {
     "name": "stdout",
     "output_type": "stream",
     "text": [
      "🏃 View run ml_baseline at: https://dagshub.com/sever.cpa.general/my-first-repo.mlflow/#/experiments/2/runs/b63f07808f054edc81f3aff8091d6335\n",
      "🧪 View experiment at: https://dagshub.com/sever.cpa.general/my-first-repo.mlflow/#/experiments/2\n"
     ]
    }
   ],
   "execution_count": 156
  },
  {
   "metadata": {
    "ExecuteTime": {
     "end_time": "2024-12-08T02:26:32.053615Z",
     "start_time": "2024-12-08T02:26:32.042672Z"
    }
   },
   "cell_type": "code",
   "source": "",
   "id": "d88fa5548e3c3b64",
   "outputs": [],
   "execution_count": null
  }
 ],
 "metadata": {
  "kernelspec": {
   "display_name": "Python 3",
   "language": "python",
   "name": "python3"
  },
  "language_info": {
   "codemirror_mode": {
    "name": "ipython",
    "version": 2
   },
   "file_extension": ".py",
   "mimetype": "text/x-python",
   "name": "python",
   "nbconvert_exporter": "python",
   "pygments_lexer": "ipython2",
   "version": "2.7.6"
  }
 },
 "nbformat": 4,
 "nbformat_minor": 5
}
