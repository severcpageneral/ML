{
 "cells": [
  {
   "cell_type": "code",
   "id": "initial_id",
   "metadata": {
    "collapsed": true,
    "ExecuteTime": {
     "end_time": "2024-12-09T11:30:52.823732Z",
     "start_time": "2024-12-09T11:30:52.758373Z"
    }
   },
   "source": [
    "# Базовые библиотеки для работы с данными и вычислений\n",
    "import pandas as pd\n",
    "\n",
    "# MLflow и логирование\n",
    "import mlflow.tensorflow\n",
    "from mlflow.exceptions import MlflowException\n",
    "import dagshub\n",
    "\n",
    "# Системные библиотеки\n",
    "import sys\n",
    "import os\n",
    "import yaml\n",
    "\n",
    "# Модули создания, обучения модели и логирования\n",
    "sys.path.append(os.path.join(os.getcwd(), \"..\"))\n",
    "from create_model import create_model\n",
    "from train_model import train_and_evaluate_model\n",
    "from mlflow_logger import log_to_mlflow"
   ],
   "outputs": [],
   "execution_count": 3
  },
  {
   "metadata": {
    "ExecuteTime": {
     "end_time": "2024-12-09T11:32:54.493799Z",
     "start_time": "2024-12-09T11:30:52.855783Z"
    }
   },
   "cell_type": "code",
   "source": [
    "# Загружаем данные\n",
    "sys.path.append(os.path.join(os.getcwd(), \"..\"))\n",
    "file_path = os.path.join(\"..\", \"..\", \"data\", \"raw\", \"water_potability.csv\")\n",
    "\n",
    "df = pd.read_csv(file_path)\n",
    "X = df.drop('Potability', axis=1)\n",
    "y = df['Potability']\n",
    "feature_names = X.columns.tolist()\n",
    "\n",
    "# Создаем эксперимент для логирования\n",
    "dagshub.init(repo_owner='sever.cpa.general', repo_name='my-first-repo', mlflow=True)\n",
    "run_name = \"ml_baseline\"\n",
    "experiment_name=\"Water Probability [RF]\"\n",
    "\n",
    "try:\n",
    "    experiment_id = mlflow.create_experiment(experiment_name)\n",
    "except MlflowException:\n",
    "    experiment_id = mlflow.get_experiment_by_name(experiment_name).experiment_id\n",
    "\n",
    "## Загружаем конфиги\n",
    "def load_config(file_name):\n",
    "    config_path = os.path.join(os.getcwd(), 'configs', file_name)\n",
    "    with open(config_path, 'r') as file:\n",
    "        return yaml.safe_load(file)\n",
    "\n",
    "hyperparams = load_config('hyperparameters.yml')['hyperparameters']\n",
    "model_config = load_config('model_config.yml')['model']\n",
    "logging_config = load_config('logging_config.yml')['logging']\n",
    "\n",
    "# Обучение и оценка модели\n",
    "results = train_and_evaluate_model(\n",
    "    X=X,\n",
    "    y=y,\n",
    "    model_config=model_config,\n",
    "    hyperparams=hyperparams\n",
    ")\n",
    "# Логирование результатов в MLflow\n",
    "log_to_mlflow(\n",
    "    evaluation_results=results,\n",
    "    experiment_name=\"Water Probability [RF]\",\n",
    "    logging_config=logging_config,\n",
    "    run_name=\"ml_baseline_hyper\",\n",
    "    save_model=True,\n",
    "    hyperparams=hyperparams,  # Добавляем гиперпараметры\n",
    "    model_config=model_config  # Добавляем конфигурацию модели\n",
    ")\n"
   ],
   "id": "4de98246bb0fafda",
   "outputs": [
    {
     "data": {
      "text/plain": [
       "Initialized MLflow to track repo \u001B[32m\"sever.cpa.general/my-first-repo\"\u001B[0m\n"
      ],
      "text/html": [
       "<pre style=\"white-space:pre;overflow-x:auto;line-height:normal;font-family:Menlo,'DejaVu Sans Mono',consolas,'Courier New',monospace\">Initialized MLflow to track repo <span style=\"color: #008000; text-decoration-color: #008000\">\"sever.cpa.general/my-first-repo\"</span>\n",
       "</pre>\n"
      ]
     },
     "metadata": {},
     "output_type": "display_data"
    },
    {
     "data": {
      "text/plain": [
       "Repository sever.cpa.general/my-first-repo initialized!\n"
      ],
      "text/html": [
       "<pre style=\"white-space:pre;overflow-x:auto;line-height:normal;font-family:Menlo,'DejaVu Sans Mono',consolas,'Courier New',monospace\">Repository sever.cpa.general/my-first-repo initialized!\n",
       "</pre>\n"
      ]
     },
     "metadata": {},
     "output_type": "display_data"
    },
    {
     "name": "stdout",
     "output_type": "stream",
     "text": [
      "Epoch 1/50\n",
      "66/66 - 4s - 55ms/step - accuracy: 0.6031 - loss: 0.6839 - val_accuracy: 0.6050 - val_loss: 0.6753\n",
      "Epoch 2/50\n",
      "66/66 - 0s - 7ms/step - accuracy: 0.6054 - loss: 0.6729 - val_accuracy: 0.6050 - val_loss: 0.6714\n",
      "Epoch 3/50\n",
      "66/66 - 0s - 6ms/step - accuracy: 0.6054 - loss: 0.6714 - val_accuracy: 0.6050 - val_loss: 0.6710\n",
      "Epoch 4/50\n",
      "66/66 - 0s - 6ms/step - accuracy: 0.6054 - loss: 0.6727 - val_accuracy: 0.6050 - val_loss: 0.6711\n",
      "Epoch 5/50\n",
      "66/66 - 0s - 7ms/step - accuracy: 0.6054 - loss: 0.6713 - val_accuracy: 0.6050 - val_loss: 0.6709\n",
      "Epoch 6/50\n",
      "66/66 - 0s - 7ms/step - accuracy: 0.6054 - loss: 0.6722 - val_accuracy: 0.6050 - val_loss: 0.6710\n",
      "Epoch 7/50\n",
      "66/66 - 0s - 6ms/step - accuracy: 0.6054 - loss: 0.6701 - val_accuracy: 0.6050 - val_loss: 0.6710\n",
      "Epoch 8/50\n",
      "66/66 - 0s - 6ms/step - accuracy: 0.6054 - loss: 0.6702 - val_accuracy: 0.6050 - val_loss: 0.6710\n",
      "Epoch 9/50\n",
      "66/66 - 0s - 5ms/step - accuracy: 0.6054 - loss: 0.6715 - val_accuracy: 0.6050 - val_loss: 0.6710\n",
      "Epoch 10/50\n",
      "66/66 - 1s - 10ms/step - accuracy: 0.6054 - loss: 0.6730 - val_accuracy: 0.6050 - val_loss: 0.6711\n",
      "Epoch 11/50\n",
      "66/66 - 0s - 6ms/step - accuracy: 0.6054 - loss: 0.6719 - val_accuracy: 0.6050 - val_loss: 0.6710\n",
      "Epoch 12/50\n",
      "66/66 - 0s - 5ms/step - accuracy: 0.6054 - loss: 0.6726 - val_accuracy: 0.6050 - val_loss: 0.6709\n",
      "Epoch 13/50\n",
      "66/66 - 0s - 5ms/step - accuracy: 0.6054 - loss: 0.6720 - val_accuracy: 0.6050 - val_loss: 0.6710\n",
      "Epoch 14/50\n",
      "66/66 - 0s - 5ms/step - accuracy: 0.6054 - loss: 0.6714 - val_accuracy: 0.6050 - val_loss: 0.6710\n",
      "Epoch 15/50\n",
      "66/66 - 0s - 5ms/step - accuracy: 0.6054 - loss: 0.6723 - val_accuracy: 0.6050 - val_loss: 0.6710\n",
      "Epoch 16/50\n",
      "66/66 - 0s - 5ms/step - accuracy: 0.6054 - loss: 0.6716 - val_accuracy: 0.6050 - val_loss: 0.6710\n",
      "Epoch 17/50\n",
      "66/66 - 0s - 5ms/step - accuracy: 0.6054 - loss: 0.6717 - val_accuracy: 0.6050 - val_loss: 0.6710\n",
      "Epoch 18/50\n",
      "66/66 - 0s - 5ms/step - accuracy: 0.6054 - loss: 0.6707 - val_accuracy: 0.6050 - val_loss: 0.6710\n",
      "Epoch 19/50\n",
      "66/66 - 1s - 10ms/step - accuracy: 0.6054 - loss: 0.6714 - val_accuracy: 0.6050 - val_loss: 0.6710\n",
      "Epoch 20/50\n",
      "66/66 - 0s - 6ms/step - accuracy: 0.6054 - loss: 0.6718 - val_accuracy: 0.6050 - val_loss: 0.6710\n",
      "Epoch 21/50\n",
      "66/66 - 0s - 6ms/step - accuracy: 0.6054 - loss: 0.6724 - val_accuracy: 0.6050 - val_loss: 0.6710\n",
      "Epoch 22/50\n",
      "66/66 - 0s - 5ms/step - accuracy: 0.6054 - loss: 0.6713 - val_accuracy: 0.6050 - val_loss: 0.6710\n",
      "\u001B[1m21/21\u001B[0m \u001B[32m━━━━━━━━━━━━━━━━━━━━\u001B[0m\u001B[37m\u001B[0m \u001B[1m0s\u001B[0m 7ms/step\n",
      "\u001B[1m21/21\u001B[0m \u001B[32m━━━━━━━━━━━━━━━━━━━━\u001B[0m\u001B[37m\u001B[0m \u001B[1m0s\u001B[0m 5ms/step\n"
     ]
    },
    {
     "name": "stderr",
     "output_type": "stream",
     "text": [
      "Successfully registered model 'ml_baseline_hyper'.\n",
      "2024/12/09 12:32:54 INFO mlflow.store.model_registry.abstract_store: Waiting up to 300 seconds for model version to finish creation. Model name: ml_baseline_hyper, version 1\n",
      "Created version '1' of model 'ml_baseline_hyper'.\n"
     ]
    },
    {
     "name": "stdout",
     "output_type": "stream",
     "text": [
      "🏃 View run ml_baseline_hyper at: https://dagshub.com/sever.cpa.general/my-first-repo.mlflow/#/experiments/2/runs/c43d3bdfb0784b089911ff7a8ecfa587\n",
      "🧪 View experiment at: https://dagshub.com/sever.cpa.general/my-first-repo.mlflow/#/experiments/2\n"
     ]
    }
   ],
   "execution_count": 4
  }
 ],
 "metadata": {
  "kernelspec": {
   "display_name": "Python 3",
   "language": "python",
   "name": "python3"
  },
  "language_info": {
   "codemirror_mode": {
    "name": "ipython",
    "version": 2
   },
   "file_extension": ".py",
   "mimetype": "text/x-python",
   "name": "python",
   "nbconvert_exporter": "python",
   "pygments_lexer": "ipython2",
   "version": "2.7.6"
  }
 },
 "nbformat": 4,
 "nbformat_minor": 5
}
