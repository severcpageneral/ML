{
 "cells": [
  {
   "cell_type": "code",
   "id": "initial_id",
   "metadata": {
    "collapsed": true,
    "ExecuteTime": {
     "end_time": "2024-12-11T20:01:06.786586Z",
     "start_time": "2024-12-11T20:00:59.351009Z"
    }
   },
   "source": [
    "# Базовые библиотеки для работы с данными и вычислений\n",
    "import pandas as pd\n",
    "\n",
    "# MLflow и логирование\n",
    "import mlflow.tensorflow\n",
    "from mlflow.exceptions import MlflowException\n",
    "import dagshub\n",
    "\n",
    "# Системные библиотеки\n",
    "import sys\n",
    "import os\n",
    "import yaml\n",
    "\n",
    "\n",
    "# Модули создания, обучения модели и логирования\n",
    "sys.path.append(os.path.join(os.getcwd(), \"..\"))\n",
    "from create_model import create_model\n",
    "from train_model import train_and_evaluate_model\n",
    "from mlflow_logger import log_to_mlflow"
   ],
   "outputs": [
    {
     "name": "stderr",
     "output_type": "stream",
     "text": [
      "\n",
      "KeyboardInterrupt\n",
      "\n"
     ]
    }
   ],
   "execution_count": 1
  },
  {
   "metadata": {
    "ExecuteTime": {
     "end_time": "2024-12-09T23:45:48.390261Z",
     "start_time": "2024-12-09T23:38:18.399110Z"
    }
   },
   "cell_type": "code",
   "source": [
    "# Загружаем данные\n",
    "sys.path.append(os.path.join(os.getcwd(), \"..\"))\n",
    "file_path = os.path.join(\"..\", \"..\", \"data\", \"raw\", \"water_potability.csv\")\n",
    "\n",
    "df = pd.read_csv(file_path)\n",
    "X = df.drop('Potability', axis=1)\n",
    "y = df['Potability']\n",
    "feature_names = X.columns.tolist()\n",
    "\n",
    "# Создаем эксперимент для логирования\n",
    "dagshub.init(repo_owner='sever.cpa.general', repo_name='my-first-repo', mlflow=True)\n",
    "run_name = \"ml_baseline\"\n",
    "experiment_name=\"Water Probability [RF]\"\n",
    "\n",
    "try:\n",
    "    experiment_id = mlflow.create_experiment(experiment_name)\n",
    "except MlflowException:\n",
    "    experiment_id = mlflow.get_experiment_by_name(experiment_name).experiment_id\n",
    "\n",
    "## Загружаем конфиги\n",
    "def load_config(file_name):\n",
    "    config_path = os.path.join(os.getcwd(), 'configs', file_name)\n",
    "    with open(config_path, 'r') as file:\n",
    "        return yaml.safe_load(file)\n",
    "\n",
    "hyperparams = load_config('hyperparameters.yml')['hyperparameters']\n",
    "model_config = load_config('model_config.yml')['model']\n",
    "logging_config = load_config('logging_config.yml')['logging']\n",
    "\n",
    "# Обучение и оценка модели\n",
    "results = train_and_evaluate_model(\n",
    "    X=X,\n",
    "    y=y,\n",
    "    model_config=model_config,\n",
    "    hyperparams=hyperparams\n",
    ")\n",
    "# Логирование результатов в MLflow\n",
    "log_to_mlflow(\n",
    "    evaluation_results=results,\n",
    "    experiment_name=\"Water Probability [RF]\",\n",
    "    logging_config=logging_config,\n",
    "    run_name=\"ml_baseline_test3\",\n",
    "    save_model=False,\n",
    "    hyperparams=hyperparams,  # Добавляем гиперпараметры\n",
    "    model_config=model_config  # Добавляем конфигурацию модели\n",
    ")\n"
   ],
   "id": "4de98246bb0fafda",
   "outputs": [
    {
     "data": {
      "text/plain": [
       "Accessing as sever.cpa.general\n"
      ],
      "text/html": [
       "<pre style=\"white-space:pre;overflow-x:auto;line-height:normal;font-family:Menlo,'DejaVu Sans Mono',consolas,'Courier New',monospace\">Accessing as sever.cpa.general\n",
       "</pre>\n"
      ]
     },
     "metadata": {},
     "output_type": "display_data"
    },
    {
     "data": {
      "text/plain": [
       "Initialized MLflow to track repo \u001B[32m\"sever.cpa.general/my-first-repo\"\u001B[0m\n"
      ],
      "text/html": [
       "<pre style=\"white-space:pre;overflow-x:auto;line-height:normal;font-family:Menlo,'DejaVu Sans Mono',consolas,'Courier New',monospace\">Initialized MLflow to track repo <span style=\"color: #008000; text-decoration-color: #008000\">\"sever.cpa.general/my-first-repo\"</span>\n",
       "</pre>\n"
      ]
     },
     "metadata": {},
     "output_type": "display_data"
    },
    {
     "data": {
      "text/plain": [
       "Repository sever.cpa.general/my-first-repo initialized!\n"
      ],
      "text/html": [
       "<pre style=\"white-space:pre;overflow-x:auto;line-height:normal;font-family:Menlo,'DejaVu Sans Mono',consolas,'Courier New',monospace\">Repository sever.cpa.general/my-first-repo initialized!\n",
       "</pre>\n"
      ]
     },
     "metadata": {},
     "output_type": "display_data"
    },
    {
     "name": "stdout",
     "output_type": "stream",
     "text": [
      "Epoch 1/10\n",
      "50/50 - 6s - 125ms/step - AUC: 0.5063 - F1Score: 0.5716 - FalseNegatives: 589.0000 - FalsePositives: 55.0000 - Precision: 0.4211 - Recall: 0.0636 - TrueNegatives: 888.0000 - TruePositives: 40.0000 - accuracy: 0.5903 - loss: 0.6882 - val_AUC: 0.5000 - val_F1Score: 0.5683 - val_FalseNegatives: 156.0000 - val_FalsePositives: 0.0000e+00 - val_Precision: 0.0000e+00 - val_Recall: 0.0000e+00 - val_TrueNegatives: 237.0000 - val_TruePositives: 0.0000e+00 - val_accuracy: 0.6031 - val_loss: 0.6826\n",
      "Epoch 2/10\n",
      "50/50 - 0s - 9ms/step - AUC: 0.5273 - F1Score: 0.5716 - FalseNegatives: 629.0000 - FalsePositives: 0.0000e+00 - Precision: 0.0000e+00 - Recall: 0.0000e+00 - TrueNegatives: 943.0000 - TruePositives: 0.0000e+00 - accuracy: 0.5999 - loss: 0.6765 - val_AUC: 0.5000 - val_F1Score: 0.5683 - val_FalseNegatives: 156.0000 - val_FalsePositives: 0.0000e+00 - val_Precision: 0.0000e+00 - val_Recall: 0.0000e+00 - val_TrueNegatives: 237.0000 - val_TruePositives: 0.0000e+00 - val_accuracy: 0.6031 - val_loss: 0.6730\n",
      "Epoch 3/10\n",
      "50/50 - 0s - 6ms/step - AUC: 0.4836 - F1Score: 0.5716 - FalseNegatives: 629.0000 - FalsePositives: 0.0000e+00 - Precision: 0.0000e+00 - Recall: 0.0000e+00 - TrueNegatives: 943.0000 - TruePositives: 0.0000e+00 - accuracy: 0.5999 - loss: 0.6752 - val_AUC: 0.5000 - val_F1Score: 0.5683 - val_FalseNegatives: 156.0000 - val_FalsePositives: 0.0000e+00 - val_Precision: 0.0000e+00 - val_Recall: 0.0000e+00 - val_TrueNegatives: 237.0000 - val_TruePositives: 0.0000e+00 - val_accuracy: 0.6031 - val_loss: 0.6719\n",
      "Epoch 4/10\n",
      "50/50 - 0s - 5ms/step - AUC: 0.4967 - F1Score: 0.5716 - FalseNegatives: 629.0000 - FalsePositives: 0.0000e+00 - Precision: 0.0000e+00 - Recall: 0.0000e+00 - TrueNegatives: 943.0000 - TruePositives: 0.0000e+00 - accuracy: 0.5999 - loss: 0.6738 - val_AUC: 0.5000 - val_F1Score: 0.5683 - val_FalseNegatives: 156.0000 - val_FalsePositives: 0.0000e+00 - val_Precision: 0.0000e+00 - val_Recall: 0.0000e+00 - val_TrueNegatives: 237.0000 - val_TruePositives: 0.0000e+00 - val_accuracy: 0.6031 - val_loss: 0.6721\n",
      "Epoch 5/10\n",
      "50/50 - 0s - 8ms/step - AUC: 0.5166 - F1Score: 0.5716 - FalseNegatives: 629.0000 - FalsePositives: 0.0000e+00 - Precision: 0.0000e+00 - Recall: 0.0000e+00 - TrueNegatives: 943.0000 - TruePositives: 0.0000e+00 - accuracy: 0.5999 - loss: 0.6730 - val_AUC: 0.5000 - val_F1Score: 0.5683 - val_FalseNegatives: 156.0000 - val_FalsePositives: 0.0000e+00 - val_Precision: 0.0000e+00 - val_Recall: 0.0000e+00 - val_TrueNegatives: 237.0000 - val_TruePositives: 0.0000e+00 - val_accuracy: 0.6031 - val_loss: 0.6719\n",
      "Epoch 6/10\n",
      "50/50 - 0s - 8ms/step - AUC: 0.5049 - F1Score: 0.5716 - FalseNegatives: 629.0000 - FalsePositives: 0.0000e+00 - Precision: 0.0000e+00 - Recall: 0.0000e+00 - TrueNegatives: 943.0000 - TruePositives: 0.0000e+00 - accuracy: 0.5999 - loss: 0.6738 - val_AUC: 0.5000 - val_F1Score: 0.5683 - val_FalseNegatives: 156.0000 - val_FalsePositives: 0.0000e+00 - val_Precision: 0.0000e+00 - val_Recall: 0.0000e+00 - val_TrueNegatives: 237.0000 - val_TruePositives: 0.0000e+00 - val_accuracy: 0.6031 - val_loss: 0.6718\n",
      "Epoch 7/10\n",
      "50/50 - 0s - 7ms/step - AUC: 0.5076 - F1Score: 0.5716 - FalseNegatives: 629.0000 - FalsePositives: 0.0000e+00 - Precision: 0.0000e+00 - Recall: 0.0000e+00 - TrueNegatives: 943.0000 - TruePositives: 0.0000e+00 - accuracy: 0.5999 - loss: 0.6732 - val_AUC: 0.5000 - val_F1Score: 0.5683 - val_FalseNegatives: 156.0000 - val_FalsePositives: 0.0000e+00 - val_Precision: 0.0000e+00 - val_Recall: 0.0000e+00 - val_TrueNegatives: 237.0000 - val_TruePositives: 0.0000e+00 - val_accuracy: 0.6031 - val_loss: 0.6719\n",
      "Epoch 8/10\n",
      "50/50 - 0s - 6ms/step - AUC: 0.5074 - F1Score: 0.5716 - FalseNegatives: 629.0000 - FalsePositives: 0.0000e+00 - Precision: 0.0000e+00 - Recall: 0.0000e+00 - TrueNegatives: 943.0000 - TruePositives: 0.0000e+00 - accuracy: 0.5999 - loss: 0.6739 - val_AUC: 0.5000 - val_F1Score: 0.5683 - val_FalseNegatives: 156.0000 - val_FalsePositives: 0.0000e+00 - val_Precision: 0.0000e+00 - val_Recall: 0.0000e+00 - val_TrueNegatives: 237.0000 - val_TruePositives: 0.0000e+00 - val_accuracy: 0.6031 - val_loss: 0.6718\n",
      "Epoch 9/10\n",
      "50/50 - 0s - 7ms/step - AUC: 0.4878 - F1Score: 0.5716 - FalseNegatives: 629.0000 - FalsePositives: 0.0000e+00 - Precision: 0.0000e+00 - Recall: 0.0000e+00 - TrueNegatives: 943.0000 - TruePositives: 0.0000e+00 - accuracy: 0.5999 - loss: 0.6750 - val_AUC: 0.5000 - val_F1Score: 0.5683 - val_FalseNegatives: 156.0000 - val_FalsePositives: 0.0000e+00 - val_Precision: 0.0000e+00 - val_Recall: 0.0000e+00 - val_TrueNegatives: 237.0000 - val_TruePositives: 0.0000e+00 - val_accuracy: 0.6031 - val_loss: 0.6719\n",
      "Epoch 10/10\n",
      "50/50 - 1s - 16ms/step - AUC: 0.5119 - F1Score: 0.5716 - FalseNegatives: 629.0000 - FalsePositives: 0.0000e+00 - Precision: 0.0000e+00 - Recall: 0.0000e+00 - TrueNegatives: 943.0000 - TruePositives: 0.0000e+00 - accuracy: 0.5999 - loss: 0.6730 - val_AUC: 0.5000 - val_F1Score: 0.5683 - val_FalseNegatives: 156.0000 - val_FalsePositives: 0.0000e+00 - val_Precision: 0.0000e+00 - val_Recall: 0.0000e+00 - val_TrueNegatives: 237.0000 - val_TruePositives: 0.0000e+00 - val_accuracy: 0.6031 - val_loss: 0.6719\n",
      "\u001B[1m41/41\u001B[0m \u001B[32m━━━━━━━━━━━━━━━━━━━━\u001B[0m\u001B[37m\u001B[0m \u001B[1m0s\u001B[0m 4ms/step\n",
      "🏃 View run ml_baseline_test3 at: https://dagshub.com/sever.cpa.general/my-first-repo.mlflow/#/experiments/2/runs/ac42c20288d14499a210c6ee9e6d5ff7\n",
      "🧪 View experiment at: https://dagshub.com/sever.cpa.general/my-first-repo.mlflow/#/experiments/2\n"
     ]
    }
   ],
   "execution_count": 2
  }
 ],
 "metadata": {
  "kernelspec": {
   "display_name": "Python 3",
   "language": "python",
   "name": "python3"
  },
  "language_info": {
   "codemirror_mode": {
    "name": "ipython",
    "version": 2
   },
   "file_extension": ".py",
   "mimetype": "text/x-python",
   "name": "python",
   "nbconvert_exporter": "python",
   "pygments_lexer": "ipython2",
   "version": "2.7.6"
  }
 },
 "nbformat": 4,
 "nbformat_minor": 5
}
